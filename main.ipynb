{
 "cells": [
  {
   "cell_type": "code",
   "execution_count": 2,
   "metadata": {
    "collapsed": true
   },
   "outputs": [],
   "source": [
    "import numpy as np\n",
    "\n",
    "data1 = []\n",
    "with open(\"data1.txt\",\"r\") as f:\n",
    "    for line in f:\n",
    "        data1.append(float(line.strip()))\n",
    "        \n",
    "data1 = np.asarray(data1)"
   ]
  },
  {
   "cell_type": "code",
   "execution_count": 3,
   "metadata": {
    "collapsed": false
   },
   "outputs": [
    {
     "data": {
      "text/plain": [
       "array([[17, 47, 40]])"
      ]
     },
     "execution_count": 3,
     "metadata": {},
     "output_type": "execute_result"
    }
   ],
   "source": [
    "np.random.randint(50,size=(1,3))"
   ]
  },
  {
   "cell_type": "code",
   "execution_count": 4,
   "metadata": {
    "collapsed": false
   },
   "outputs": [],
   "source": [
    "\n",
    "def expectation(data,num_class):\n",
    "    class_weights = [1/num_class]*3\n",
    "    sd =np.random.randint(10,50,size=(1,num_class))\n",
    "    mean = np.random.randint(1,10,size=(1,num_class))\n",
    "    prob = []\n",
    "    for i in data:\n",
    "        bottom = 0\n",
    "        class_prob =[]\n",
    "        for j in range(num_class):\n",
    "            part1 = np.log(1/(np.sqrt(2*np.pi*sd[0][j])))\n",
    "            part2 = (-((i-mean[0][j])**2/2*(sd[0][j]**2)))\n",
    "            upper = (part1 + part2)*class_weights[j]\n",
    "            class_prob.append(upper)\n",
    "            bottom += upper\n",
    "        prob.append(class_prob/bottom)\n",
    "    prob=np.asmatrix(prob)\n",
    "    count= prob.sum(axis=0)\n",
    "    return prob,count"
   ]
  },
  {
   "cell_type": "code",
   "execution_count": 5,
   "metadata": {
    "collapsed": false
   },
   "outputs": [],
   "source": [
    "prob,count = expectation(data1,3)"
   ]
  },
  {
   "cell_type": "code",
   "execution_count": 6,
   "metadata": {
    "collapsed": false
   },
   "outputs": [],
   "source": [
    "def maximization(prob,count,data):\n",
    "    data = np.asmatrix(data)\n",
    "    weighted_points = np.multiply(prob,(np.transpose(data)*np.matrix([1,1,1])))\n",
    "    new_means = weighted_points.sum(axis=0)/count[0]\n",
    "    data_2 = np.multiply(data,data)\n",
    "    weighted_points_2 = np.multiply(weighted_points,weighted_points)\n",
    "    part1 = np.multiply(prob,(np.transpose(data_2)*np.matrix([1,1,1]))).sum(axis=0)/count[0]\n",
    "    part2 = weighted_points_2.sum(axis=0)/count[0]\n",
    "    new_sd = np.sqrt(part1-part2)\n",
    "\n",
    "    return"
   ]
  },
  {
   "cell_type": "code",
   "execution_count": 201,
   "metadata": {
    "collapsed": false
   },
   "outputs": [
    {
     "data": {
      "text/plain": [
       "matrix([[ 0.00607208,  0.23576996,  0.75815795]])"
      ]
     },
     "execution_count": 201,
     "metadata": {},
     "output_type": "execute_result"
    }
   ],
   "source": [
    "count[0]/count.sum()"
   ]
  },
  {
   "cell_type": "code",
   "execution_count": 190,
   "metadata": {
    "collapsed": false
   },
   "outputs": [
    {
     "data": {
      "text/plain": [
       "matrix([[ 0.03820007,  0.95468642,  0.00711351],\n",
       "        [ 0.03480406,  0.96191577,  0.00328016],\n",
       "        [ 0.0384582 ,  0.95408171,  0.00746009],\n",
       "        ..., \n",
       "        [ 0.0431734 ,  0.94174677,  0.01507982],\n",
       "        [ 0.03219853,  0.9664952 ,  0.00130627],\n",
       "        [ 0.0318265 ,  0.96707631,  0.00109719]])"
      ]
     },
     "execution_count": 190,
     "metadata": {},
     "output_type": "execute_result"
    }
   ],
   "source": [
    "prob"
   ]
  },
  {
   "cell_type": "code",
   "execution_count": 191,
   "metadata": {
    "collapsed": false
   },
   "outputs": [
    {
     "data": {
      "text/plain": [
       "matrix([[  17.85038776,  479.70868847,    2.44092376]])"
      ]
     },
     "execution_count": 191,
     "metadata": {},
     "output_type": "execute_result"
    }
   ],
   "source": [
    "count[0]"
   ]
  },
  {
   "cell_type": "code",
   "execution_count": 133,
   "metadata": {
    "collapsed": false
   },
   "outputs": [],
   "source": [
    "t = np.transpose(np.asmatrix(data1))*np.matrix([1,1,1])"
   ]
  },
  {
   "cell_type": "code",
   "execution_count": 7,
   "metadata": {
    "collapsed": false
   },
   "outputs": [
    {
     "data": {
      "text/plain": [
       "0.96890095886919525"
      ]
     },
     "execution_count": 7,
     "metadata": {},
     "output_type": "execute_result"
    }
   ],
   "source": [
    "np.exp(-72.79/2304)"
   ]
  },
  {
   "cell_type": "code",
   "execution_count": 8,
   "metadata": {
    "collapsed": true
   },
   "outputs": [],
   "source": [
    "from matplotlib import pyplot as plt"
   ]
  },
  {
   "cell_type": "code",
   "execution_count": null,
   "metadata": {
    "collapsed": true
   },
   "outputs": [],
   "source": []
  }
 ],
 "metadata": {
  "anaconda-cloud": {},
  "kernelspec": {
   "display_name": "Python [default]",
   "language": "python",
   "name": "python3"
  },
  "language_info": {
   "codemirror_mode": {
    "name": "ipython",
    "version": 3
   },
   "file_extension": ".py",
   "mimetype": "text/x-python",
   "name": "python",
   "nbconvert_exporter": "python",
   "pygments_lexer": "ipython3",
   "version": "3.5.2"
  }
 },
 "nbformat": 4,
 "nbformat_minor": 1
}
